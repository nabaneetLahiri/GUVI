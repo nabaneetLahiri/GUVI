{
 "cells": [
  {
   "cell_type": "markdown",
   "metadata": {},
   "source": [
    "###### Assessment"
   ]
  },
  {
   "cell_type": "markdown",
   "metadata": {},
   "source": [
    "###### I am going to provide two .csv files , you are supposed to work on them and have to provide solutions to the following problems"
   ]
  },
  {
   "cell_type": "markdown",
   "metadata": {},
   "source": [
    "###### import necessary libraries"
   ]
  },
  {
   "cell_type": "code",
   "execution_count": 1,
   "metadata": {},
   "outputs": [],
   "source": [
    "import pandas as pd\n",
    "import matplotlib.pyplot as plt"
   ]
  },
  {
   "cell_type": "markdown",
   "metadata": {},
   "source": [
    "###### merge those two csv files (after getting as dataframes, get them as a single dataframe)"
   ]
  },
  {
   "cell_type": "code",
   "execution_count": 2,
   "metadata": {},
   "outputs": [],
   "source": [
    "f1=pd.read_csv(\"college_1.csv\")\n",
    "f2=pd.read_csv(\"college_2.csv\")\n",
    "f1[[\"python_en\",\"computational_thinking\"]]=0\n",
    "f3=pd.concat([f1,f2],ignore_index=True)"
   ]
  },
  {
   "cell_type": "markdown",
   "metadata": {},
   "source": [
    "###### Take each csv file , split that csv file into multiple categories (example csv files are added in the repo) \n"
   ]
  },
  {
   "cell_type": "markdown",
   "metadata": {},
   "source": [
    "###### consider if the codekata score exceeds 15000 points(present week) then make a csv on those observations as Exceeded expectations.csv\n"
   ]
  },
  {
   "cell_type": "markdown",
   "metadata": {},
   "source": [
    "###### if  10000<codekata score<15000   (Reached_expectations.csv)\n",
    "\n"
   ]
  },
  {
   "cell_type": "markdown",
   "metadata": {},
   "source": [
    "###### if  7000<codekata score<10000   (Needs_Improvement.csv)\n"
   ]
  },
  {
   "cell_type": "markdown",
   "metadata": {},
   "source": [
    "###### if  codekate score < 7000        (Unsatisfactory.csv)"
   ]
  },
  {
   "cell_type": "code",
   "execution_count": 3,
   "metadata": {},
   "outputs": [],
   "source": [
    "#f1\n",
    "m11=f1[\"CodeKata Score\"]>15000\n",
    "m12=f1[\"CodeKata Score\"]<=15000\n",
    "m13=f1[\"CodeKata Score\"]<=10000\n",
    "m14=f1[\"CodeKata Score\"]<=7000"
   ]
  },
  {
   "cell_type": "code",
   "execution_count": 4,
   "metadata": {},
   "outputs": [],
   "source": [
    "#f2\n",
    "m21=f2[\"CodeKata Score\"]>15000\n",
    "m22=f2[\"CodeKata Score\"]<=15000 \n",
    "m23=f2[\"CodeKata Score\"]<=10000\n",
    "m24=f2[\"CodeKata Score\"]<=7000"
   ]
  },
  {
   "cell_type": "code",
   "execution_count": 5,
   "metadata": {},
   "outputs": [],
   "source": [
    "f1_Exceeded_expectations=f1.loc[m11]\n",
    "f1_Reached_expectations=f1.loc[m12 & -m13]\n",
    "f1_Needs_Improvement=f1.loc[m13 & -m14]\n",
    "f1_Unsatisfactory=f1.loc[m14]\n",
    "f2_Exceeded_expectations=f2.loc[m21]\n",
    "f2_Reached_expectations=f2.loc[m22 & -m23]\n",
    "f2_Needs_Improvement=f2.loc[m23 & -m24]\n",
    "f2_Unsatisfactory=f2.loc[m24]"
   ]
  },
  {
   "cell_type": "code",
   "execution_count": 6,
   "metadata": {},
   "outputs": [],
   "source": [
    "f1_Exceeded_expectations.to_csv(\"college_1_Exceeded_expectations.csv\")\n",
    "f1_Reached_expectations.to_csv(\"college_1_Reached_expectations.csv\")\n",
    "f1_Needs_Improvement.to_csv(\"college_1_Needs_Improvement.csv\")\n",
    "f1_Unsatisfactory.to_csv(\"college_1_Unsatisfactory.csv\")\n",
    "f2_Exceeded_expectations.to_csv(\"college_2_Exceeded_expectations.csv\")\n",
    "f2_Reached_expectations.to_csv(\"college_2_Reached_expectations.csv\")\n",
    "f2_Needs_Improvement.to_csv(\"college_2_Needs_Improvement.csv\")\n",
    "f2_Unsatisfactory.to_csv(\"college_2_Unsatisfactory.csv\")"
   ]
  },
  {
   "cell_type": "markdown",
   "metadata": {},
   "source": [
    "###### Average of previous week geekions vs this week geekions (i.e Previous Geekions vs CodeKata Score)"
   ]
  },
  {
   "cell_type": "code",
   "execution_count": 7,
   "metadata": {},
   "outputs": [
    {
     "data": {
      "text/plain": [
       "Previous Geekions    3842.352941\n",
       "CodeKata Score       4051.764706\n",
       "dtype: float64"
      ]
     },
     "execution_count": 7,
     "metadata": {},
     "output_type": "execute_result"
    }
   ],
   "source": [
    "f3.mean()[[\"Previous Geekions\",\"CodeKata Score\"]]"
   ]
  },
  {
   "cell_type": "markdown",
   "metadata": {},
   "source": [
    "###### No of students participated "
   ]
  },
  {
   "cell_type": "code",
   "execution_count": 8,
   "metadata": {},
   "outputs": [
    {
     "data": {
      "text/plain": [
       "119"
      ]
     },
     "execution_count": 8,
     "metadata": {},
     "output_type": "execute_result"
    }
   ],
   "source": [
    "f3.count()[0]"
   ]
  },
  {
   "cell_type": "markdown",
   "metadata": {},
   "source": [
    "###### #Average completion of python course or my_sql or python english or computational thinking"
   ]
  },
  {
   "cell_type": "code",
   "execution_count": 9,
   "metadata": {
    "scrolled": true
   },
   "outputs": [
    {
     "data": {
      "text/plain": [
       "python                    54.352941\n",
       "mysql                     23.500000\n",
       "python_en                  8.722689\n",
       "computational_thinking     0.647059\n",
       "dtype: float64"
      ]
     },
     "execution_count": 9,
     "metadata": {},
     "output_type": "execute_result"
    }
   ],
   "source": [
    "f3.mean()[[\"python\",\"mysql\",\"python_en\",\"computational_thinking\"]]"
   ]
  },
  {
   "cell_type": "markdown",
   "metadata": {},
   "source": [
    "###### rising star of the week (top 3 candidate who performed well in that particular week)"
   ]
  },
  {
   "cell_type": "code",
   "execution_count": 10,
   "metadata": {},
   "outputs": [
    {
     "name": "stdout",
     "output_type": "stream",
     "text": [
      "shifak N\n",
      "Narasimhan Y L\n",
      "Ganesh Ramkumar R\n"
     ]
    }
   ],
   "source": [
    "print(*list(f3.sort_values(by=[\"Rising\"],ascending=False)[:3][\"Name\"]),sep=\"\\n\")"
   ]
  },
  {
   "cell_type": "markdown",
   "metadata": {},
   "source": [
    "###### Shining stars of the week (top 3 candidates who has highest geekions)"
   ]
  },
  {
   "cell_type": "code",
   "execution_count": 11,
   "metadata": {},
   "outputs": [
    {
     "name": "stdout",
     "output_type": "stream",
     "text": [
      "A.Dharani\n",
      "V.JEEVITHA \n",
      "HEMAVATHI.R\n"
     ]
    }
   ],
   "source": [
    "print(*list(f3.sort_values(by=[\"CodeKata Score\"],ascending=False)[:3][\"Name\"]),sep=\"\\n\")"
   ]
  },
  {
   "cell_type": "markdown",
   "metadata": {},
   "source": [
    "###### Department wise codekata performence (pie chart)"
   ]
  },
  {
   "cell_type": "code",
   "execution_count": 12,
   "metadata": {},
   "outputs": [
    {
     "data": {
      "text/plain": [
       "([<matplotlib.patches.Wedge at 0x22eb5b94280>,\n",
       "  <matplotlib.patches.Wedge at 0x22eb5b94790>,\n",
       "  <matplotlib.patches.Wedge at 0x22eb5b94c10>],\n",
       " [Text(0.13490819619649513, 1.0916958269586856, 'Computer Science and Engineering'),\n",
       "  Text(-0.9401648049597914, -0.5710430277263856, 'Electronics and Communication Engineering'),\n",
       "  Text(0.6820374803157301, -0.8630323721880717, 'Electronics and Electrical Engineering')])"
      ]
     },
     "execution_count": 12,
     "metadata": {},
     "output_type": "execute_result"
    },
    {
     "data": {
      "image/png": "[encoded data removed]",
      "text/plain": [
       "<Figure size 432x288 with 1 Axes>"
      ]
     },
     "metadata": {},
     "output_type": "display_data"
    }
   ],
   "source": [
    "d=dict(f3.groupby(\"Department\").mean()[\"CodeKata Score\"])\n",
    "plt.pie(d.values(),labels=d.keys())"
   ]
  },
  {
   "cell_type": "markdown",
   "metadata": {},
   "source": [
    "###### Department wise toppers (horizantal bar graph or any visual representations of your choice)"
   ]
  },
  {
   "cell_type": "code",
   "execution_count": 13,
   "metadata": {},
   "outputs": [
    {
     "data": {
      "text/plain": [
       "{'Computer Science and Engineering': 24500,\n",
       " 'Electronics and Communication Engineering': 10040,\n",
       " 'Electronics and Electrical Engineering': 19400}"
      ]
     },
     "execution_count": 13,
     "metadata": {},
     "output_type": "execute_result"
    }
   ],
   "source": [
    "d=dict(f3.groupby(\"Department\").max()[\"CodeKata Score\"])\n",
    "d"
   ]
  },
  {
   "cell_type": "code",
   "execution_count": 14,
   "metadata": {},
   "outputs": [
    {
     "data": {
      "image/png": "[encoded data removed]",
      "text/plain": [
       "<Figure size 432x288 with 1 Axes>"
      ]
     },
     "metadata": {
      "needs_background": "light"
     },
     "output_type": "display_data"
    }
   ],
   "source": [
    "x=d.values()\n",
    "y=d.keys()\n",
    "plt.barh(list(y), list(x))\n",
    "plt.title(\"CodeKata Score\")\n",
    "plt.show()"
   ]
  },
  {
   "cell_type": "code",
   "execution_count": null,
   "metadata": {},
   "outputs": [],
   "source": []
  }
 ],
 "metadata": {
  "kernelspec": {
   "display_name": "Python 3",
   "language": "python",
   "name": "python3"
  },
  "language_info": {
   "codemirror_mode": {
    "name": "ipython",
    "version": 3
   },
   "file_extension": ".py",
   "mimetype": "text/x-python",
   "name": "python",
   "nbconvert_exporter": "python",
   "pygments_lexer": "ipython3",
   "version": "3.8.8"
  }
 },
 "nbformat": 4,
 "nbformat_minor": 2
}
